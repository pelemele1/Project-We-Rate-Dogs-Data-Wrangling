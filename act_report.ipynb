{
 "cells": [
  {
   "cell_type": "markdown",
   "metadata": {},
   "source": [
    "# Insight Report on We-Rate-Dogs Twitter Archive\n",
    "__by Felix Deichsel, August 23, 2021__\n",
    "\n",
    "In this document we will summarize the insghts we found by analyzing the We-Rate-Dogs Twitter archive. Basically the used data originates from three sources:\n",
    "\n",
    "* The WeRateDogs Twitter archive, that is downloaded from the udacity server\n",
    "* The tweet image predictions data, which contains the breed of the dog in each tweet according to a neural network\n",
    "* Data, that we get from the Twitter API using Python's Tweepy library\n",
    "\n",
    "After the data acquisition the data was cleaned up, in order to enable a proper analyzing. The final dataset contained following features, that are interesing for us:\n",
    "* Breed: The dog breed of the dog, that is shown in the tweet image\n",
    "* Stage: The dog stage, which can be puppo, pupper, floofer or doggo\n",
    "* Rating: The rating of the dog, that is shown on the tweet image\n",
    "* Retweet count: How often the tweet was retweeted\n",
    "* Favorite Count: How many favourites were given to the tweet\n",
    "* Name: Name of the dog\n",
    "\n",
    "Based on those features we can gain some insights, that are really interesting."
   ]
  },
  {
   "cell_type": "markdown",
   "metadata": {},
   "source": [
    "## Correlation between rating, favorite count and retweet count."
   ]
  },
  {
   "cell_type": "markdown",
   "metadata": {},
   "source": [
    "From a logically point of view, one would suggest, that dogs, that have a high rating, are also favorited more often and gain more retweets, at least in my very own expectation. And indeed, the logic does not let us down.\n",
    "<img src=\"images/scatter_correlation_favorites_retweets_rating.png\">"
   ]
  },
  {
   "cell_type": "markdown",
   "metadata": {},
   "source": [
    "Each point represents one row of the dataset, respectively one tweet. In both diagrams (normal and logarithmic) we can clearly see, the the higher the favorite count, the higher the retweet count is. Also a color shift occurs from the left bottom to top right from some kind of dark green (rating is around 8) to yellow (rating is around 14). Obviously a high rating correlates with a high favorite and retweet count. Nothing else we were expecting. There are also some ratings, that are in the range of 0 to 2. Thats really rude, because as we know, all those dogs are good dogs.\n",
    "\n",
    "A further examination reveals a positive correlation between the retweet count and the favorite count of a tweet. The correlation coefficient $R^2 = 0.857$ indicates, that the correlation is strong.\n",
    "The coefficients of the intercept is $-276$ and the coefficient of the favorite counts is $0.3325$. The p values of both variables are 0, meaning, they are both statistically significant."
   ]
  },
  {
   "cell_type": "markdown",
   "metadata": {},
   "source": [
    "## Most and least tweeted dog breeds\n",
    "You got a new dog and need a name for your pet? No problem! Just look at our data and you will find one. Maybe you are looking for some casual name? Then don't hesitate and take a look at the top ten of the most frequent dog names in our twitter archiv. Here they come:\n",
    "<img src=\"images/most_least_frequent_dog_names.png\">"
   ]
  },
  {
   "cell_type": "markdown",
   "metadata": {},
   "source": [
    "Seems like you can go with Cooper,Charlie, Oliver and Lucy, if you like a common name for your dog. If you like some more exotic name, try Meatball, Mauve or Keet. However we have to consider, that those names are at least in our archiv. So if you want a really unyique name, just take a name, that is not in the archiv."
   ]
  },
  {
   "cell_type": "markdown",
   "metadata": {},
   "source": [
    "## Most and least tweeted dog breeds\n",
    "Did you ever ask yourself, which dog breed is the most common between all dog owners? Well, using our data archiv, we can  at least make a good guess, assuming, that the dogs, that were posted, are a sample of all dogs. Lets have a look.\n",
    "<img src=\"images/most_least tweeted_dog_breeds.png\">\n",
    "\n"
   ]
  },
  {
   "cell_type": "markdown",
   "metadata": {},
   "source": [
    "As we can clearly see, the golden retriever, the labrador retriever and the pembroke take places 1 to 3. It seems, that people have a crush on retrievers at all, don't you think? On the other end, there are sveral dog breeds, that are included only one time in our dataset, even if i think, that at least the appenzeller dog should be represented more often.\n",
    "\n",
    "However we have always to consider, that there is no guarantee, that the neural network, that classified the breeds, has done a perfect job."
   ]
  },
  {
   "cell_type": "markdown",
   "metadata": {},
   "source": [
    "## Most and least popular dog breeds\n",
    "After looking at the absolute values, we are interested in which dog is the most popular of all dog breeds. For this purpose, we will create a measure, that represents both, the retweet count and the favorite count of each breed.\n",
    "\n",
    "Since one retweet count is on average $0.3325$ favorites, we will weighed a favorite with an factor of $1/0.3325 \\approx 3$.  The result we call popularity score. For each dog breed I calculated the average popularity score. The scores of the breeds are shown in the diagram below.\n",
    "And the winners is:\n",
    "<img src=\"images/most_least_popular_dog_breeds.png\">\n"
   ]
  },
  {
   "cell_type": "markdown",
   "metadata": {},
   "source": [
    "Congratulations to the bedlington terrier! \n",
    "<img src=\"images/bedlington-terrier-full-818x522.jpg\">\n",
    "\n",
    "Also congratulations to all sheeps, which are the secret winners of this contest, i guess."
   ]
  },
  {
   "cell_type": "markdown",
   "metadata": {},
   "source": [
    "## Popularity of dog stages\n",
    "    \n",
    "Last but not least, it is also interesting to know, in which stage a dog is most popular. If you guess, the earlier the stage, the more popular the dog, then i can tell you following: You are wrong. At least, when you look at our dataset. \n",
    "<img src=\"images/popularity_dog_stages.png\">"
   ]
  },
  {
   "cell_type": "markdown",
   "metadata": {},
   "source": [
    "Puppos got the highest popularity score, followed by doggo and floofer. Then all dogs, that are not categorized take the fourth place before pupper... who would have thought."
   ]
  }
 ],
 "metadata": {
  "kernelspec": {
   "display_name": "Python 3",
   "language": "python",
   "name": "python3"
  },
  "language_info": {
   "codemirror_mode": {
    "name": "ipython",
    "version": 3
   },
   "file_extension": ".py",
   "mimetype": "text/x-python",
   "name": "python",
   "nbconvert_exporter": "python",
   "pygments_lexer": "ipython3",
   "version": "3.8.5"
  },
  "toc": {
   "base_numbering": 1,
   "nav_menu": {},
   "number_sections": true,
   "sideBar": true,
   "skip_h1_title": false,
   "title_cell": "Table of Contents",
   "title_sidebar": "Contents",
   "toc_cell": false,
   "toc_position": {},
   "toc_section_display": true,
   "toc_window_display": false
  }
 },
 "nbformat": 4,
 "nbformat_minor": 4
}
